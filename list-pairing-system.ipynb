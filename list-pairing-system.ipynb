{
 "cells": [
  {
   "cell_type": "code",
   "execution_count": 59,
   "metadata": {},
   "outputs": [
    {
     "ename": "UnboundLocalError",
     "evalue": "local variable 'removal_index' referenced before assignment",
     "output_type": "error",
     "traceback": [
      "\u001b[0;31m---------------------------------------------------------------------------\u001b[0m",
      "\u001b[0;31mUnboundLocalError\u001b[0m                         Traceback (most recent call last)",
      "\u001b[0;32m<ipython-input-59-3fea76cf3936>\u001b[0m in \u001b[0;36m<module>\u001b[0;34m\u001b[0m\n\u001b[0;32m----> 1\u001b[0;31m \u001b[0mpair_system\u001b[0m\u001b[0;34m(\u001b[0m\u001b[0;34m)\u001b[0m\u001b[0;34m\u001b[0m\u001b[0;34m\u001b[0m\u001b[0m\n\u001b[0m\u001b[1;32m      2\u001b[0m \u001b[0;34m\u001b[0m\u001b[0m\n\u001b[1;32m      3\u001b[0m \u001b[0;32mdef\u001b[0m \u001b[0mpair_system\u001b[0m\u001b[0;34m(\u001b[0m\u001b[0;34m)\u001b[0m\u001b[0;34m:\u001b[0m\u001b[0;34m\u001b[0m\u001b[0;34m\u001b[0m\u001b[0m\n\u001b[1;32m      4\u001b[0m \u001b[0;34m\u001b[0m\u001b[0m\n\u001b[1;32m      5\u001b[0m     \u001b[0;31m#Set the names, questions, questions_understood, questions_help arrays\u001b[0m\u001b[0;34m\u001b[0m\u001b[0;34m\u001b[0m\u001b[0;34m\u001b[0m\u001b[0m\n",
      "\u001b[0;32m<ipython-input-39-3b7f88af517c>\u001b[0m in \u001b[0;36mpair_system\u001b[0;34m()\u001b[0m\n\u001b[1;32m     20\u001b[0m         \u001b[0mto_remove\u001b[0m \u001b[0;34m=\u001b[0m \u001b[0;32mTrue\u001b[0m\u001b[0;34m\u001b[0m\u001b[0;34m\u001b[0m\u001b[0m\n\u001b[1;32m     21\u001b[0m         \u001b[0mremoval_index\u001b[0m \u001b[0;34m=\u001b[0m \u001b[0mnot_paired_index\u001b[0m\u001b[0;34m(\u001b[0m\u001b[0;34m)\u001b[0m\u001b[0;34m\u001b[0m\u001b[0;34m\u001b[0m\u001b[0m\n\u001b[0;32m---> 22\u001b[0;31m     \u001b[0mprint\u001b[0m\u001b[0;34m(\u001b[0m\u001b[0mremoval_index\u001b[0m\u001b[0;34m)\u001b[0m\u001b[0;34m\u001b[0m\u001b[0;34m\u001b[0m\u001b[0m\n\u001b[0m\u001b[1;32m     23\u001b[0m \u001b[0;34m\u001b[0m\u001b[0m\n\u001b[1;32m     24\u001b[0m \u001b[0;34m\u001b[0m\u001b[0m\n",
      "\u001b[0;31mUnboundLocalError\u001b[0m: local variable 'removal_index' referenced before assignment"
     ]
    }
   ],
   "source": [
    "pair_system()\n",
    "\n",
    "def pair_system():\n",
    "    \n",
    "    #Set the names, questions, questions_understood, questions_help arrays\n",
    "    names_arr = setArrays()[0]\n",
    "    questions_arr = setArrays()[1]\n",
    "    questions_understood_arr = setArrays()[2]\n",
    "    questions_help = setArrays()[3]\n",
    "    \n",
    "    # Retrieve the student count for pair matching\n",
    "    student_count = count_students()\n",
    "    \n",
    "    \n",
    "    # Find which student should not be paired   \n",
    "    # If number of students is even, to_remove is False\n",
    "#     to_remove = False\n",
    "#     removal_index = 0\n",
    "#     if (student_count % 2 == 1):\n",
    "#         to_remove = True\n",
    "#         removal_index = not_paired_index(questions_understood_arr)\n",
    "   \n",
    "        \n",
    "    \n",
    "    "
   ]
  },
  {
   "cell_type": "code",
   "execution_count": 54,
   "metadata": {},
   "outputs": [],
   "source": [
    "def setArrays():\n",
    "    # Harcoded data containing list of names of students (list)\n",
    "    names = [\"Rashi Dembi\", \"Ana Park\", \"Julia Harvey\", \"Some Else\",\"One More\"]\n",
    "\n",
    "    # Harcoded data containing all questions (list)\n",
    "    questions = [\"Q1\", \"Q2\", \"Q3\", \"Q4\", \"Q5\"]\n",
    "\n",
    "    # Harcoded data containing a question they understand (list)\n",
    "    questions_understood = [\"\",\"Q2\",\"Q5\",\"Q4\",\"Q1\"]\n",
    "\n",
    "    # Harcoded data containing a question they want help on (list)\n",
    "    questions_help = [\"Q1\",\"Q4\",\"Q5\",\"Q5\",\"Q3\"]\n",
    "    \n",
    "    return names, questions, questions_understood, questions_help"
   ]
  },
  {
   "cell_type": "code",
   "execution_count": 55,
   "metadata": {},
   "outputs": [],
   "source": [
    "def count_students():\n",
    "    # Update the count of students based on the number of entries to the array\n",
    "    \n",
    "    student_count = len(names)\n",
    "   \n",
    "    if(student_count % 2 == 1):\n",
    "        return student_count - 1\n",
    "    return student_count"
   ]
  },
  {
   "cell_type": "code",
   "execution_count": 53,
   "metadata": {},
   "outputs": [],
   "source": [
    "def not_paired_index(questions_understood):\n",
    "    \"\"\"\" \n",
    "    If there is one or more students who have not understood any questions, remove the last \n",
    "    student to enter the queue who has not understood anything. If not, remove the last student who entered the queue.\n",
    "    \"\"\"\n",
    "    \n",
    "    index = length(questions_understood)\n",
    "    index = 0\n",
    "    for i in range(length(questions_understood)):\n",
    "        if(not i):\n",
    "            index = questions_understood.index(i)\n",
    "        \n",
    "    index = len(questions_arr) - 1\n",
    "    return index\n",
    "    "
   ]
  },
  {
   "cell_type": "code",
   "execution_count": null,
   "metadata": {},
   "outputs": [],
   "source": []
  }
 ],
 "metadata": {
  "kernelspec": {
   "display_name": "Python 3",
   "language": "python",
   "name": "python3"
  },
  "language_info": {
   "codemirror_mode": {
    "name": "ipython",
    "version": 3
   },
   "file_extension": ".py",
   "mimetype": "text/x-python",
   "name": "python",
   "nbconvert_exporter": "python",
   "pygments_lexer": "ipython3",
   "version": "3.7.3"
  }
 },
 "nbformat": 4,
 "nbformat_minor": 2
}
