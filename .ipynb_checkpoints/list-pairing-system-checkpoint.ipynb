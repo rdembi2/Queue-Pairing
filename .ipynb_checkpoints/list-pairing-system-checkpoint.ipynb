{
 "cells": [
  {
   "cell_type": "code",
   "execution_count": 223,
   "metadata": {},
   "outputs": [
    {
     "name": "stdout",
     "output_type": "stream",
     "text": [
      "Done: ['Rashi Dembi', 'Mary Else', 'Ana Park', 'Vander Bilt']\n"
     ]
    },
    {
     "ename": "ValueError",
     "evalue": "'' is not in list",
     "output_type": "error",
     "traceback": [
      "\u001b[0;31m---------------------------------------------------------------------------\u001b[0m",
      "\u001b[0;31mValueError\u001b[0m                                Traceback (most recent call last)",
      "\u001b[0;32m<ipython-input-223-0a932149d54b>\u001b[0m in \u001b[0;36m<module>\u001b[0;34m\u001b[0m\n\u001b[1;32m     63\u001b[0m     \u001b[0mpair\u001b[0m \u001b[0;34m=\u001b[0m \u001b[0mmatching\u001b[0m\u001b[0;34m(\u001b[0m\u001b[0mquestions_understood_arr\u001b[0m\u001b[0;34m,\u001b[0m \u001b[0mquestions_help_arr\u001b[0m\u001b[0;34m,\u001b[0m \u001b[0mnames_arr\u001b[0m\u001b[0;34m)\u001b[0m\u001b[0;34m\u001b[0m\u001b[0;34m\u001b[0m\u001b[0m\n\u001b[1;32m     64\u001b[0m \u001b[0;34m\u001b[0m\u001b[0m\n\u001b[0;32m---> 65\u001b[0;31m \u001b[0mpair_system\u001b[0m\u001b[0;34m(\u001b[0m\u001b[0;34m)\u001b[0m\u001b[0;34m\u001b[0m\u001b[0;34m\u001b[0m\u001b[0m\n\u001b[0m",
      "\u001b[0;32m<ipython-input-223-0a932149d54b>\u001b[0m in \u001b[0;36mpair_system\u001b[0;34m()\u001b[0m\n\u001b[1;32m     61\u001b[0m     \u001b[0;31m# Return the pairs where there is a direct match between a question understood for one students\u001b[0m\u001b[0;34m\u001b[0m\u001b[0;34m\u001b[0m\u001b[0;34m\u001b[0m\u001b[0m\n\u001b[1;32m     62\u001b[0m     \u001b[0;31m# and a question where help is required for another student\u001b[0m\u001b[0;34m\u001b[0m\u001b[0;34m\u001b[0m\u001b[0;34m\u001b[0m\u001b[0m\n\u001b[0;32m---> 63\u001b[0;31m     \u001b[0mpair\u001b[0m \u001b[0;34m=\u001b[0m \u001b[0mmatching\u001b[0m\u001b[0;34m(\u001b[0m\u001b[0mquestions_understood_arr\u001b[0m\u001b[0;34m,\u001b[0m \u001b[0mquestions_help_arr\u001b[0m\u001b[0;34m,\u001b[0m \u001b[0mnames_arr\u001b[0m\u001b[0;34m)\u001b[0m\u001b[0;34m\u001b[0m\u001b[0;34m\u001b[0m\u001b[0m\n\u001b[0m\u001b[1;32m     64\u001b[0m \u001b[0;34m\u001b[0m\u001b[0m\n\u001b[1;32m     65\u001b[0m \u001b[0mpair_system\u001b[0m\u001b[0;34m(\u001b[0m\u001b[0;34m)\u001b[0m\u001b[0;34m\u001b[0m\u001b[0;34m\u001b[0m\u001b[0m\n",
      "\u001b[0;32m<ipython-input-221-b1640d7ea843>\u001b[0m in \u001b[0;36mmatching\u001b[0;34m(q_help, q_understood, names)\u001b[0m\n\u001b[1;32m     42\u001b[0m                     \u001b[0;31m#print(str(index) + \"Not\" )\u001b[0m\u001b[0;34m\u001b[0m\u001b[0;34m\u001b[0m\u001b[0;34m\u001b[0m\u001b[0m\n\u001b[1;32m     43\u001b[0m                     \u001b[0mindex\u001b[0m\u001b[0;34m+=\u001b[0m\u001b[0;36m1\u001b[0m\u001b[0;34m\u001b[0m\u001b[0;34m\u001b[0m\u001b[0m\n\u001b[0;32m---> 44\u001b[0;31m                 elif(((names_j_2[q_help.index(j)]) not in done_names) \n\u001b[0m\u001b[1;32m     45\u001b[0m                         and (names_j_2[q_understood.index(k)] not in done_names)):\n\u001b[1;32m     46\u001b[0m                     \u001b[0;31m#print(index)\u001b[0m\u001b[0;34m\u001b[0m\u001b[0;34m\u001b[0m\u001b[0;34m\u001b[0m\u001b[0m\n",
      "\u001b[0;31mValueError\u001b[0m: '' is not in list"
     ]
    }
   ],
   "source": [
    "\n",
    "# Function that calls helper functions to match peers\n",
    "\n",
    "def pair_system():\n",
    "    \n",
    "    #Set the names, questions, questions_understood, questions_help arrays\n",
    "    names_arr = setArrays()[0]\n",
    "    questions_arr = setArrays()[1]\n",
    "    questions_understood_arr = setArrays()[2]\n",
    "    questions_help_arr = setArrays()[3]\n",
    "    \n",
    "    # Retrieve the original student count\n",
    "    student_count = len(names_arr)\n",
    "    \n",
    "    \n",
    "    # Find which student should not be paired if odd number of students \n",
    "    # If number of students is even, to_remove is False\n",
    "    to_remove = False\n",
    "    removal_index = student_count\n",
    "    if (student_count % 2 == 1):\n",
    "        to_remove = True\n",
    "        removal_index = not_paired_index(questions_understood_arr)\n",
    "    #print(removal_index)\n",
    "    #print(names_arr)\n",
    "    \n",
    "    # Store the values before we remove them\n",
    "    # They should be added to the queue when pair matching happens again ahead of the new people\n",
    "    name_hold = ''\n",
    "    questions_hold = ''\n",
    "    questions_understood_hold = ''\n",
    "    questions_help_hold = ''\n",
    "    \n",
    "    \n",
    "    if(to_remove):\n",
    "        name_hold = names_arr[removal_index]\n",
    "        questions_hold = questions_arr[removal_index]\n",
    "        questions_understood_hold = questions_understood_arr[removal_index]\n",
    "        questions_help_hold = questions_help_arr[removal_index]\n",
    "    \n",
    "    # Remove values from removal_index when to_remove is true\n",
    "    if(to_remove):\n",
    "        names_arr.remove(names_arr[removal_index])\n",
    "        questions_arr.remove(questions_arr[removal_index])\n",
    "        questions_understood_arr.remove(questions_understood_arr[removal_index])\n",
    "        questions_help_arr.remove(questions_help_arr[removal_index])\n",
    "    #print(questions_understood_arr)\n",
    "    \n",
    "    # Create an array to find out if a student has been matched\n",
    "    # Initialize the values in this array to zero\n",
    "    matched = names_arr.copy()\n",
    "    for i in range(len(matched)):\n",
    "        matched[i] = False\n",
    "    \n",
    "    # Create an empty array called range that is the same size as the number of pairs we must return\n",
    "    #pairs = []\n",
    "#     ranger = (len(names_arr))\n",
    "    \n",
    "#     for i in range(int(ranger/2)):\n",
    "#         pairs.append(\"\")\n",
    "    #print(pairs)\n",
    "    \n",
    "    # Return the pairs where there is a direct match between a question understood for one students\n",
    "    # and a question where help is required for another student\n",
    "    pair = matching(questions_understood_arr, questions_help_arr, names_arr)\n",
    "\n",
    "pair_system()  "
   ]
  },
  {
   "cell_type": "code",
   "execution_count": 224,
   "metadata": {},
   "outputs": [],
   "source": [
    "def setArrays():\n",
    "    # Harcoded data containing list of names of students (list)\n",
    "    names = [\"Rashi Dembi\", \"Ana Park\", \"Julia Harvey\", \"Mary Else\",\"Vander Bilt\",\"JJ\",\"EP\"]\n",
    "\n",
    "    # Harcoded data containing all questions (list)\n",
    "    questions = [\"Q1\", \"Q2\", \"Q3\", \"Q4\", \"Q5\",\"Q6\",\"Q7\"]\n",
    "\n",
    "    # Harcoded data containing a question they understand (list)\n",
    "    questions_understood = [\"Q2\",\"Q3\",\"\",\"Q4\",\"Q1\",\"Q5\",\"Q6\"]\n",
    "\n",
    "    # Harcoded data containing a question they want help on (list)\n",
    "    questions_help = [\"Q1\",\"Q4\",\"Q5\",\"Q2\",\"Q3\",\"Q1\",\"Q7\"]\n",
    "    \n",
    "    return names, questions, questions_understood, questions_help"
   ]
  },
  {
   "cell_type": "code",
   "execution_count": 225,
   "metadata": {},
   "outputs": [],
   "source": [
    "def count_students(names):\n",
    "    # Update the count of students based on the number of entries to the array\n",
    "    \n",
    "    student_count = len(names)\n",
    "   \n",
    "    if(student_count % 2 == 1):\n",
    "        return student_count - 1\n",
    "    return student_count"
   ]
  },
  {
   "cell_type": "code",
   "execution_count": 226,
   "metadata": {},
   "outputs": [],
   "source": [
    "def not_paired_index(questions_understood):\n",
    "    \n",
    "    \"\"\"\" \n",
    "    If there is one or more students who have not understood any questions, remove the last \n",
    "    student to enter the queue who has not understood anything. If not, remove the last student who entered the queue.\n",
    "    \"\"\"\n",
    "    \n",
    "    index = len(questions_understood) - 1\n",
    "    for i in questions_understood:\n",
    "        if(not i):\n",
    "            #print(i)\n",
    "            index = questions_understood.index(i)\n",
    "          \n",
    "    return index\n",
    "    "
   ]
  },
  {
   "cell_type": "code",
   "execution_count": 227,
   "metadata": {},
   "outputs": [],
   "source": [
    "def matching(q_help, q_understood, names):\n",
    "    #print(names)\n",
    "    names_j = names.copy()\n",
    "    names_k = names.copy()\n",
    "    pairs = []\n",
    "    length_arr = int(len(names)/2)\n",
    "    for i in range(length_arr):\n",
    "        pairs.append(\"\")\n",
    "    #print(pairs)\n",
    "    #print(length_arr)\n",
    "    #print(q_help)\n",
    "    #print(q_understood)\n",
    "    index = 0\n",
    "    temp_name_j = \"\"\n",
    "    temp_name_k = \"\"\n",
    "    done_names = []\n",
    "    # Check for matching questions\n",
    "    for j in q_help:\n",
    "        for k in q_understood:\n",
    "            if(index < len(pairs)):\n",
    "                if ((j == k) and (j != \"\") and (k != \"\")):\n",
    "                    pairs[index] = ((names_j[q_help.index(j)]) + \" - \"+ (names_j[q_understood.index(k)]))\n",
    "                    if((len(names_j[q_help.index(j)])) > 1):\n",
    "                        done_names.append(names_j[q_help.index(j)])\n",
    "                        done_names.append(names_j[q_understood.index(k)])\n",
    "                    names_j[q_help.index(j)] = \"0\"\n",
    "                    names_j[q_understood.index(k)] = \"0\"\n",
    "                    j = \"0\"\n",
    "                    k = \"0\"\n",
    "                    if (pairs[index] == \"0 - 0\"):\n",
    "                        pairs[index] = None\n",
    "                    index+=1  \n",
    "    index = 0\n",
    "    names_j_2 = names.copy()\n",
    "    print(\"Done:\",done_names )\n",
    "\n",
    "    # Randomly pair the people left to talk through problems with a buddy                   \n",
    "    for j in q_help:\n",
    "        for k in q_understood:\n",
    "              if(index < len(pairs)):\n",
    "                if (pairs[index] is not None):\n",
    "                    #print(str(index) + \"Not\" )\n",
    "                    index+=1\n",
    "                elif(((names_j_2[q_help.index(j)]) not in done_names) \n",
    "                        and (names_j_2[q_understood.index(k)] not in done_names)):\n",
    "                    #print(index)\n",
    "                    pairs[index] = ((names_j_2[q_help.index(j)]) + \" - \"+ names_j_2[q_understood.index(k)])\n",
    "                    done_names.append(names_j_2[q_help.index(j)])\n",
    "                    done_names.append(names_j_2[q_understood.index(k)])\n",
    "                    names_j_2[q_help.index(j)] = \"0\"\n",
    "                    names_j_2[q_understood.index(k)] = \"0\"\n",
    "                    j = \"\"\n",
    "                    k = \"\"\n",
    "                    index+=1\n",
    "    print(\"Done 2:\", done_names)\n",
    "                \n",
    "                     \n",
    "                \n",
    "    #print(names_j)\n",
    "    #print(pairs)\n",
    "                        \n",
    "                    \n",
    "    print(pairs)\n",
    "    # Check for same question\n",
    "    return pairs"
   ]
  },
  {
   "cell_type": "code",
   "execution_count": 228,
   "metadata": {},
   "outputs": [
    {
     "name": "stdout",
     "output_type": "stream",
     "text": [
      "On branch pairing-system\r\n",
      "Your branch is ahead of 'origin/pairing-system' by 1 commit.\r\n",
      "  (use \"git push\" to publish your local commits)\r\n",
      "\r\n",
      "nothing to commit, working tree clean\r\n"
     ]
    }
   ],
   "source": [
    "!git add .\n",
    "!git commit -m\"Matching all members completed\""
   ]
  },
  {
   "cell_type": "code",
   "execution_count": 229,
   "metadata": {},
   "outputs": [
    {
     "name": "stdout",
     "output_type": "stream",
     "text": [
      "Enumerating objects: 5, done.\n",
      "Counting objects: 100% (5/5), done.\n",
      "Delta compression using up to 12 threads\n",
      "Compressing objects: 100% (3/3), done.\n",
      "Writing objects: 100% (3/3), 1.22 KiB | 1.22 MiB/s, done.\n",
      "Total 3 (delta 2), reused 0 (delta 0)\n",
      "remote: Resolving deltas: 100% (2/2), completed with 2 local objects.\u001b[K\n",
      "To https://github.com/rdembi2/Queue-Pairing.git\n",
      "   a42bae9..b631a13  pairing-system -> pairing-system\n"
     ]
    }
   ],
   "source": [
    "!git push"
   ]
  },
  {
   "cell_type": "code",
   "execution_count": null,
   "metadata": {},
   "outputs": [],
   "source": []
  }
 ],
 "metadata": {
  "kernelspec": {
   "display_name": "Python 3",
   "language": "python",
   "name": "python3"
  },
  "language_info": {
   "codemirror_mode": {
    "name": "ipython",
    "version": 3
   },
   "file_extension": ".py",
   "mimetype": "text/x-python",
   "name": "python",
   "nbconvert_exporter": "python",
   "pygments_lexer": "ipython3",
   "version": "3.7.3"
  }
 },
 "nbformat": 4,
 "nbformat_minor": 2
}
