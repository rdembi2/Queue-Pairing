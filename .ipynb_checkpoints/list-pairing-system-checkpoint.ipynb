{
 "cells": [
  {
   "cell_type": "code",
   "execution_count": 83,
   "metadata": {},
   "outputs": [
    {
     "name": "stdout",
     "output_type": "stream",
     "text": [
      "\n"
     ]
    }
   ],
   "source": [
    "\n",
    "# Function that calls helper functions to match peers\n",
    "\n",
    "def pair_system():\n",
    "    \n",
    "    #Set the names, questions, questions_understood, questions_help arrays\n",
    "    names_arr = setArrays()[0]\n",
    "    questions_arr = setArrays()[1]\n",
    "    questions_understood_arr = setArrays()[2]\n",
    "    questions_help = setArrays()[3]\n",
    "    \n",
    "    # Retrieve the original student count\n",
    "    student_count = len(names_arr)\n",
    "    \n",
    "    \n",
    "    # Find which student should not be paired if odd number of students \n",
    "    # If number of students is even, to_remove is False\n",
    "    to_remove = False\n",
    "    removal_index = student_count\n",
    "    if (student_count % 2 == 1):\n",
    "        to_remove = True\n",
    "        removal_index = not_paired_index(questions_understood_arr)\n",
    "    #print(removal_index)\n",
    "    #print(names_arr)\n",
    "    \n",
    "    # Store the values before we remove them\n",
    "    # They should be added to the queue when pair matching happens again ahead of the new people\n",
    "    name_hold = ''\n",
    "    questions_hold = ''\n",
    "    questions_understood_hold = ''\n",
    "    questions_help_hold = ''\n",
    "    \n",
    "    \n",
    "    if(to_remove):\n",
    "        name_hold = names_arr[removal_index]\n",
    "        questions_hold = questions_arr[removal_index]\n",
    "        questions_understood_hold = questions_understood_arr[removal_index]\n",
    "        questions_help_hold = questions_help[removal_index]\n",
    "    \n",
    "    #Remove values from removal_index when to_remove is true\n",
    "    if(to_remove):\n",
    "        names_arr.remove(names_arr[removal_index])\n",
    "        questions_arr.remove(questions_arr[removal_index])\n",
    "        questions_understood_arr.remove(questions_understood_arr[removal_index])\n",
    "        questions_help.remove(questions_help[removal_index])\n",
    "    #print(questions_understood_arr)\n",
    "     \n",
    "pair_system()  "
   ]
  },
  {
   "cell_type": "code",
   "execution_count": 76,
   "metadata": {},
   "outputs": [],
   "source": [
    "def setArrays():\n",
    "    # Harcoded data containing list of names of students (list)\n",
    "    names = [\"Rashi Dembi\", \"Ana Park\", \"Julia Harvey\", \"Some Else\",\"One More\"]\n",
    "\n",
    "    # Harcoded data containing all questions (list)\n",
    "    questions = [\"Q1\", \"Q2\", \"Q3\", \"Q4\", \"Q5\"]\n",
    "\n",
    "    # Harcoded data containing a question they understand (list)\n",
    "    questions_understood = [\"Q2\",\"Q3\",\"\",\"Q4\",\"Q1\"]\n",
    "\n",
    "    # Harcoded data containing a question they want help on (list)\n",
    "    questions_help = [\"Q1\",\"Q4\",\"Q5\",\"Q5\",\"Q3\"]\n",
    "    \n",
    "    return names, questions, questions_understood, questions_help"
   ]
  },
  {
   "cell_type": "code",
   "execution_count": 77,
   "metadata": {},
   "outputs": [],
   "source": [
    "def count_students(names):\n",
    "    # Update the count of students based on the number of entries to the array\n",
    "    \n",
    "    student_count = len(names)\n",
    "   \n",
    "    if(student_count % 2 == 1):\n",
    "        return student_count - 1\n",
    "    return student_count"
   ]
  },
  {
   "cell_type": "code",
   "execution_count": 78,
   "metadata": {},
   "outputs": [],
   "source": [
    "def not_paired_index(questions_understood):\n",
    "    \n",
    "    \"\"\"\" \n",
    "    If there is one or more students who have not understood any questions, remove the last \n",
    "    student to enter the queue who has not understood anything. If not, remove the last student who entered the queue.\n",
    "    \"\"\"\n",
    "    \n",
    "    index = len(questions_understood) - 1\n",
    "    for i in questions_understood:\n",
    "        if(not i):\n",
    "            print(i)\n",
    "            index = questions_understood.index(i)\n",
    "          \n",
    "    return index\n",
    "    "
   ]
  },
  {
   "cell_type": "code",
   "execution_count": null,
   "metadata": {},
   "outputs": [],
   "source": []
  }
 ],
 "metadata": {
  "kernelspec": {
   "display_name": "Python 3",
   "language": "python",
   "name": "python3"
  },
  "language_info": {
   "codemirror_mode": {
    "name": "ipython",
    "version": 3
   },
   "file_extension": ".py",
   "mimetype": "text/x-python",
   "name": "python",
   "nbconvert_exporter": "python",
   "pygments_lexer": "ipython3",
   "version": "3.7.3"
  }
 },
 "nbformat": 4,
 "nbformat_minor": 2
}
